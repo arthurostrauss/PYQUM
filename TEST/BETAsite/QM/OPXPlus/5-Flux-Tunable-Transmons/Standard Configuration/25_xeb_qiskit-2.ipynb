{
 "cells": [
  {
   "cell_type": "code",
   "execution_count": 1,
   "id": "3c96489c2cc9f2ff",
   "metadata": {
    "ExecuteTime": {
     "end_time": "2024-04-16T09:15:14.941895Z",
     "start_time": "2024-04-16T09:15:14.940347Z"
    },
    "collapsed": false
   },
   "outputs": [
    {
     "name": "stdout",
     "output_type": "stream",
     "text": [
      "qiskit version: 1.0.2\n"
     ]
    }
   ],
   "source": [
    "# Uncomment the line below to install Aer package for custom depolarizing error\n",
    "# !pip install qiskit-aer\n",
    "\n",
    "from qiskit.version import VERSION\n",
    "print(\"qiskit version: %s\" %VERSION)\n"
   ]
  },
  {
   "cell_type": "code",
   "execution_count": 2,
   "id": "initial_id",
   "metadata": {
    "ExecuteTime": {
     "end_time": "2024-04-16T09:15:15.807226Z",
     "start_time": "2024-04-16T09:15:14.943037Z"
    }
   },
   "outputs": [],
   "source": [
    "from qiskit import QuantumCircuit, QuantumRegister, transpile\n",
    "import numpy as np\n",
    "from qiskit.circuit.library import CZGate, RXGate, RYGate, UnitaryGate, TGate, XGate, YGate, CPhaseGate, HGate\n",
    "from qiskit.quantum_info import Statevector, state_fidelity, random_clifford, Clifford, DensityMatrix\n",
    "import matplotlib.pyplot as plt\n",
    "from qiskit.providers.basic_provider import BasicSimulator\n",
    "from qiskit_aer import AerSimulator\n",
    "from qiskit_aer.noise import depolarizing_error, NoiseModel, thermal_relaxation_error, coherent_unitary_error, kraus_error\n",
    "from scipy.linalg import sqrtm"
   ]
  },
  {
   "cell_type": "markdown",
   "id": "c8d6b336b2f22aef",
   "metadata": {
    "collapsed": false
   },
   "source": [
    "# Gate definition"
   ]
  },
  {
   "cell_type": "code",
   "execution_count": 3,
   "id": "80d43b195d1f5c25",
   "metadata": {
    "ExecuteTime": {
     "end_time": "2024-04-16T09:15:15.816311Z",
     "start_time": "2024-04-16T09:15:15.807837Z"
    },
    "collapsed": false
   },
   "outputs": [],
   "source": [
    "# Define the gates\n",
    "X90, Y90 = RXGate(np.pi / 2), RYGate(np.pi / 2)\n",
    "T, X, Y, H = TGate(), XGate(), YGate(), HGate()\n",
    "W = UnitaryGate((X.to_matrix()+Y.to_matrix())/np.sqrt(2), label='w')\n",
    "SW = UnitaryGate(sqrtm(W.to_matrix()), label='sw')\n",
    "XY90 = UnitaryGate((X90.to_matrix() + Y90.to_matrix()) / np.sqrt(3), label=\"XY90\")\n",
    "XY90mm = UnitaryGate((-X90.to_matrix() - Y90.to_matrix()) / np.sqrt(3), label=\"XY90mm\")\n",
    "XY90pm = UnitaryGate((X90.to_matrix() - Y90.to_matrix()), label=\"XY90pm\")\n",
    "XY90mp = UnitaryGate((-X90.to_matrix() + Y90.to_matrix()), label=\"XY90mp\")\n",
    "# CZ, CP = CZGate(), CPhaseGate(np.pi/2)\n",
    "CZ = CPhaseGate(np.pi*1)\n",
    "\n",
    "# Possible gate sets\n",
    "gate_dict1 = {0: X90, 1: Y90, 2: T}  # https://arxiv.org/abs/1608.00263\n",
    "gate_dict2 = {0: X90, 1: Y90, 2: SW}  # https://www.nature.com/articles/s41586-019-1666-5\n",
    "gate_dict3 = {0: X90, 1: Y90, 2: XY90, 3: XY90mm, 4: XY90pm, 5: XY90mp} # https://arxiv.org/abs/2001.08343\n",
    "gate_dict4 = {0: X90, 1: Y90, 2: XY90} \n",
    "gate_sets = [gate_dict1, gate_dict2, gate_dict3, gate_dict4]\n",
    "# Set for storing unique Cliffords\n",
    "cliffords = []\n",
    "\n",
    "# Generate Cliffords until we have 24 unique ones\n",
    "while len(cliffords) < 24:\n",
    "    # Generate a random Clifford\n",
    "    c = random_clifford(1)\n",
    "    # Add it to the set (this automatically checks for uniqueness)\n",
    "    if c not in cliffords:\n",
    "        cliffords.append(c)\n",
    "\n",
    "# Convert set to list\n",
    "cliffords = {i: c for i, c in enumerate(cliffords)}\n",
    "gate_sets.append(cliffords)\n",
    "\n",
    "# Now cliffords list contains all 24 one-qubit Clifford operators\n"
   ]
  },
  {
   "cell_type": "code",
   "execution_count": 4,
   "id": "3fdad0d1",
   "metadata": {},
   "outputs": [
    {
     "name": "stdout",
     "output_type": "stream",
     "text": [
      "Check Identity: \n",
      "[[ 1.0000000e+00-9.95716912e-18j -9.7278522e-18-9.72785220e-18j]\n",
      " [-9.7278522e-18+9.72785220e-18j  1.0000000e+00+9.95716912e-18j]]\n"
     ]
    }
   ],
   "source": [
    "# Check Unitary:\n",
    "from qiskit.quantum_info import Operator\n",
    "\n",
    "Operator(XY90).is_unitary()\n",
    "print(\"Check Identity: \")\n",
    "print(XY90.to_matrix()@XY90.to_matrix().conjugate().transpose())"
   ]
  },
  {
   "cell_type": "code",
   "execution_count": null,
   "id": "8039fe0d98443899",
   "metadata": {
    "ExecuteTime": {
     "end_time": "2024-04-16T09:15:15.818390Z",
     "start_time": "2024-04-16T09:15:15.816860Z"
    },
    "collapsed": false
   },
   "outputs": [],
   "source": [
    "# Choose the gate set\n",
    "gate_set_choice = 2 # 1, 2, 3 or 4\n",
    "gate_dict = gate_sets[gate_set_choice - 1]\n",
    "random_gates = len(gate_dict)\n",
    "print(random_gates)"
   ]
  },
  {
   "cell_type": "markdown",
   "id": "cd017f780bc62910",
   "metadata": {
    "collapsed": false
   },
   "source": [
    "# Noise parameters"
   ]
  },
  {
   "cell_type": "code",
   "execution_count": null,
   "id": "590a1399907c2d53",
   "metadata": {
    "ExecuteTime": {
     "end_time": "2024-04-16T09:15:15.823613Z",
     "start_time": "2024-04-16T09:15:15.818953Z"
    },
    "collapsed": false
   },
   "outputs": [],
   "source": [
    "num_qubits = 1  # Number of qubits\n",
    "apply_CZ = True  # Apply CZ gate\n",
    "error1q = 0.07\n",
    "error2q = 0.03\n",
    "effective_error = error2q + num_qubits*error1q if num_qubits == 2 and apply_CZ else num_qubits*error1q\n",
    "depol_error1q = depolarizing_error(error1q, 1)\n",
    "depol_error2q = depolarizing_error(error2q, 2)\n",
    "sq_gate_set = [\"h\", \"t\", \"rx\", \"ry\", \"sw\"]\n",
    "noise_model = NoiseModel(basis_gates = sq_gate_set)\n",
    "if num_qubits == 2:\n",
    "    noise_model.add_all_qubit_quantum_error(depol_error2q, [\"cz\"])\n",
    "noise_model.add_all_qubit_quantum_error(depol_error1q, sq_gate_set)\n",
    "# noise_model.add_all_qubit_quantum_error(depol_error1q, [ 'rx', 'sw', 'ry', 't'])\n",
    "backend = AerSimulator(noise_model=noise_model, method=\"density_matrix\", basis_gates=noise_model.basis_gates) \n",
    "# backend.target.add_instruction(SW, properties={(qubit,): None for qubit in range(num_qubits)}, name=\"sw\")\n",
    "print(noise_model.noise_qubits)\n",
    "print(noise_model)\n",
    "print(backend.operation_names)"
   ]
  },
  {
   "cell_type": "markdown",
   "id": "7dc974ec0e67ba4",
   "metadata": {
    "collapsed": false
   },
   "source": [
    "# Sequence parameters"
   ]
  },
  {
   "cell_type": "code",
   "execution_count": null,
   "id": "2413e8dd9e0007a2",
   "metadata": {
    "ExecuteTime": {
     "end_time": "2024-04-16T09:15:15.825851Z",
     "start_time": "2024-04-16T09:15:15.824096Z"
    },
    "collapsed": false
   },
   "outputs": [],
   "source": [
    "# np.random.seed(335)\n",
    "sequences = 30 # Number of sequences\n",
    "max_depth = 50# Maximum depth\n",
    "step = 1 # Step for depths to be tested\n",
    "n_avgs = 1000 # Number of shots\n",
    "np.random.seed(13111)\n",
    "dim = 2 ** num_qubits\n",
    "qubits = QuantumRegister(num_qubits, \"q\") # Number of qubits\n",
    "\n",
    "depths = np.arange(1, max_depth + 1, step) # Depths to be tested\n",
    "sq_gates, counts_list, states_list, circuits_list, dms_list, fidelities_list, purities_list = [], [], [], [], [], [], []# 2D for 2 qubits\n"
   ]
  },
  {
   "cell_type": "markdown",
   "id": "593dd45400c597ff",
   "metadata": {
    "collapsed": false
   },
   "source": [
    "# Generate random sequences"
   ]
  },
  {
   "cell_type": "code",
   "execution_count": null,
   "id": "faf972de8e39a0fa",
   "metadata": {
    "ExecuteTime": {
     "end_time": "2024-04-16T09:15:15.830402Z",
     "start_time": "2024-04-16T09:15:15.827560Z"
    }
   },
   "outputs": [],
   "source": [
    "import numpy as np\n",
    "from qiskit import QuantumCircuit\n",
    "from qiskit.circuit import Gate\n",
    "\n",
    "def depolarizing_channel(qc: QuantumCircuit, qubit: int, p: float):\n",
    "    \"\"\"Apply depolarizing channel to a qubit in a quantum circuit.\n",
    "\n",
    "    Args:\n",
    "        qc: QuantumCircuit to apply the channel to.\n",
    "        qubit: Index of the qubit the channel is applied to.\n",
    "        p: Depolarizing probability.\n",
    "    \"\"\"\n",
    "    # Randomly choose an operation\n",
    "    probs = [1-p, p/3, p/3, p/3]\n",
    "    op = np.random.choice(4, p=probs)\n",
    "\n",
    "    # Apply the operation\n",
    "    if op == 0:\n",
    "        qc.id(qubit)\n",
    "    elif op == 1:\n",
    "        qc.x(qubit)\n",
    "    elif op == 2:\n",
    "        qc.y(qubit)\n",
    "    else:\n",
    "        qc.z(qubit)  # Identity operation\n",
    "\n",
    "def bit_flip_channel(qc: QuantumCircuit, qubit: int, p: float):\n",
    "    \"\"\"Apply depolarizing channel to a qubit in a quantum circuit.\n",
    "\n",
    "    Args:\n",
    "        qc: QuantumCircuit to apply the channel to.\n",
    "        qubit: Index of the qubit the channel is applied to.\n",
    "        p: Depolarizing probability.\n",
    "    \"\"\"\n",
    "    # Randomly choose an operation\n",
    "    probs = [1-p, p]\n",
    "    op = np.random.choice(2, p=probs)\n",
    "\n",
    "    # Apply the operation\n",
    "    if op == 0:\n",
    "        qc.id(qubit)\n",
    "    elif op == 1:\n",
    "        qc.x(qubit)\n",
    "\n",
    "def phase_flip_channel(qc: QuantumCircuit, qubit: int, p: float):\n",
    "    \"\"\"Apply depolarizing channel to a qubit in a quantum circuit.\n",
    "\n",
    "    Args:\n",
    "        qc: QuantumCircuit to apply the channel to.\n",
    "        qubit: Index of the qubit the channel is applied to.\n",
    "        p: Depolarizing probability.\n",
    "    \"\"\"\n",
    "    # Randomly choose an operation\n",
    "    probs = [1-p, p]\n",
    "    op = np.random.choice(2, p=probs)\n",
    "\n",
    "    # Apply the operation\n",
    "    if op == 0:\n",
    "        qc.id(qubit)\n",
    "    elif op == 1:\n",
    "        qc.z(qubit)"
   ]
  },
  {
   "cell_type": "code",
   "execution_count": null,
   "id": "89fe6c12be783006",
   "metadata": {
    "ExecuteTime": {
     "end_time": "2024-04-16T09:15:16.632263Z",
     "start_time": "2024-04-16T09:15:15.830809Z"
    },
    "collapsed": false
   },
   "outputs": [],
   "source": [
    "\n",
    "# Generate sequences\n",
    "for s in range(sequences):  # For each sequence\n",
    "    counts_list.append([])\n",
    "    sq_gates.append([])\n",
    "    circuits_list.append([])\n",
    "    states_list.append([])\n",
    "    dms_list.append([])\n",
    "    fidelities_list.append([])\n",
    "    purities_list.append([])\n",
    "    for i, d in enumerate(depths):  # For each maximum depth\n",
    "        sq_gates[s].append(np.zeros((2, d), dtype=int))\n",
    "        for q in range(num_qubits):  # For each qubit\n",
    "            # Generate random single qubit gates\n",
    "            # Start the sequence with a random gate\n",
    "            sq_gates[s][i][q][0] = np.random.randint(random_gates)\n",
    "        for d_ in range(1, d):  # For each growing depth (all cycles until maximum depth d)\n",
    "            for q in range(num_qubits):  # For each qubit\n",
    "                sq_gates[s][i][q][d_] = np.random.randint(random_gates)\n",
    "                # Make sure that the same gate is not applied twice in a row\n",
    "                while sq_gates[s][i][q][d_] == sq_gates[s][i][q][d_ - 1]:\n",
    "                    sq_gates[s][i][q][d_] = np.random.randint(random_gates)\n",
    "        # Define the circuit\n",
    "        qc = QuantumCircuit(qubits)\n",
    "        # First cycle: apply Hadamard \n",
    "        for q in range(num_qubits):\n",
    "            qc.append(H, [q])\n",
    "        if num_qubits == 2 and apply_CZ:\n",
    "            qc.append(CZ, qubits)\n",
    "        for d_ in range(d):  # Apply layers\n",
    "            for q in range(num_qubits):  # For each qubit, append single qubit gates\n",
    "                qc.append(gate_dict[sq_gates[s][i][q][d_]], [qubits[q]])\n",
    "                # depolarizing_channel(qc, q, error1q)\n",
    "                # bit_flip_channel(qc, q, error1q)\n",
    "                # phase_flip_channel(qc, q, error1q)\n",
    "            # Apply CZ gate\n",
    "            if num_qubits == 2 and apply_CZ:\n",
    "                qc.append(CZ, qubits)\n",
    "        # Store the statevector\n",
    "        states_list[s].append(Statevector(qc)) # Ideal case\n",
    "        qc.save_density_matrix()  # Actual state, subject to noise sim\n",
    "        circuits_list[s].append(qc)\n",
    "        "
   ]
  },
  {
   "cell_type": "code",
   "execution_count": null,
   "id": "ae064b87906d03e",
   "metadata": {
    "ExecuteTime": {
     "end_time": "2024-04-16T09:15:16.765752Z",
     "start_time": "2024-04-16T09:15:16.632881Z"
    },
    "collapsed": false
   },
   "outputs": [],
   "source": [
    "# Draw the circuit of your choice: first index is the sequence, second index is the depth index in depths array\n",
    "circuits_list[1][3].draw(output=\"mpl\")"
   ]
  },
  {
   "cell_type": "markdown",
   "id": "ce0d4d3714994e2a",
   "metadata": {
    "collapsed": false
   },
   "source": [
    "# Execute the circuits"
   ]
  },
  {
   "cell_type": "code",
   "execution_count": null,
   "id": "12701c1456c932b1",
   "metadata": {
    "ExecuteTime": {
     "end_time": "2024-04-16T09:15:18.345739Z",
     "start_time": "2024-04-16T09:15:16.767308Z"
    },
    "collapsed": false
   },
   "outputs": [],
   "source": [
    "# Execute circuit (transpiled) and store counts\n",
    "circ_list = [circuits_list[s][i].measure_all(inplace=False) for s in range(sequences) for i in range(len(depths))]\n",
    "# transpiled_circs = transpile(circ_list, backend)\n",
    "transpiled_circs = circ_list\n",
    "job = backend.run(transpiled_circs, shots=n_avgs)\n",
    "counts = job.result().get_counts()"
   ]
  },
  {
   "cell_type": "code",
   "execution_count": null,
   "id": "578fa762573f9beb",
   "metadata": {
    "ExecuteTime": {
     "end_time": "2024-04-16T09:15:18.432378Z",
     "start_time": "2024-04-16T09:15:18.346622Z"
    }
   },
   "outputs": [],
   "source": [
    "dms = [job.result().data(i)[\"density_matrix\"] for i in range(len(transpiled_circs))]\n",
    "# Add missing keys to counts (Qiskit does not add all possible outcomes by default, only the ones carrying actual counts)\n",
    "for count in counts:\n",
    "    for key in [bin(i)[2:].zfill(num_qubits) for i in range(dim)]:\n",
    "        if key not in count.keys():\n",
    "            count[key] = 0\n",
    "# Add counts to list\n",
    "idx = 0\n",
    "for s in range(sequences):\n",
    "    for i in range(len(depths)): \n",
    "        counts_list[s].append(counts[idx])\n",
    "        dms_list[s].append(dms[idx])\n",
    "        fidelities_list[s].append(state_fidelity(dms[idx], states_list[s][i]))\n",
    "        purities_list[s].append(dms[idx].purity())\n",
    "        \n",
    "        idx += 1\n"
   ]
  },
  {
   "cell_type": "code",
   "execution_count": null,
   "id": "c0d28cae493e3916",
   "metadata": {
    "ExecuteTime": {
     "end_time": "2024-04-16T09:15:18.470013Z",
     "start_time": "2024-04-16T09:15:18.439401Z"
    }
   },
   "outputs": [],
   "source": [
    "circuits_list[0][2].draw(output=\"mpl\")"
   ]
  },
  {
   "cell_type": "code",
   "execution_count": null,
   "id": "f3bae26976b1fa09",
   "metadata": {
    "ExecuteTime": {
     "end_time": "2024-04-16T09:15:18.515726Z",
     "start_time": "2024-04-16T09:15:18.470737Z"
    }
   },
   "outputs": [],
   "source": [
    "transpiled_circs[3].draw(output=\"mpl\")"
   ]
  },
  {
   "cell_type": "code",
   "execution_count": null,
   "id": "ff377f07c8b5ca70",
   "metadata": {
    "ExecuteTime": {
     "end_time": "2024-04-16T09:15:18.521416Z",
     "start_time": "2024-04-16T09:15:18.516270Z"
    }
   },
   "outputs": [],
   "source": [
    "fidelities_list # State fidelity between output Density Matrix and ideal statevector"
   ]
  },
  {
   "cell_type": "markdown",
   "id": "76dc92b770c28e20",
   "metadata": {
    "collapsed": false
   },
   "source": [
    "# Post-processing"
   ]
  },
  {
   "cell_type": "code",
   "execution_count": null,
   "id": "912fa6d25cd6681c",
   "metadata": {
    "ExecuteTime": {
     "end_time": "2024-04-16T09:15:18.523476Z",
     "start_time": "2024-04-16T09:15:18.521939Z"
    },
    "collapsed": false
   },
   "outputs": [],
   "source": [
    "def cross_entropy(p, q, epsilon=1e-15):\n",
    "    \"\"\"\n",
    "    Calculate cross entropy between two probability distributions.\n",
    "\n",
    "    Parameters:\n",
    "    - p: numpy array, the true probability distribution\n",
    "    - q: numpy array, the predicted probability distribution\n",
    "    - epsilon: small value to avoid taking the logarithm of zero\n",
    "\n",
    "    Returns:\n",
    "    - Cross entropy between p and q\n",
    "    \"\"\"\n",
    "    q = np.maximum(q, epsilon)  # Avoid taking the logarithm of zero\n",
    "\n",
    "    # print(f\"p: {p}, \\nq: {q}\")\n",
    "\n",
    "    x_entropy = -np.sum(p * np.log(q))\n",
    "\n",
    "    return x_entropy"
   ]
  },
  {
   "cell_type": "code",
   "execution_count": null,
   "id": "8084675369e59f09",
   "metadata": {
    "ExecuteTime": {
     "end_time": "2024-04-16T09:15:19.290096Z",
     "start_time": "2024-04-16T09:15:18.523878Z"
    },
    "collapsed": false
   },
   "outputs": [],
   "source": [
    "from scipy.optimize import curve_fit\n",
    "# Post-processing\n",
    "records = []\n",
    "incoherent_dist = np.ones(dim) / dim\n",
    "fidelities = np.zeros((sequences, len(depths)))\n",
    "expected_probs = np.zeros((sequences, len(depths), dim))\n",
    "measured_probs = np.zeros((sequences, len(depths), dim))\n",
    "linear_fidelities = np.zeros((sequences, len(depths)))\n",
    "noise_model_fidelities = np.zeros((sequences, len(depths)))\n",
    "\n",
    "# Reconstruct sequence from gate indices (similar step to what is done in QUA)\n",
    "for s in range(sequences):\n",
    "    for j, d in enumerate(depths):\n",
    "        qc = QuantumCircuit(qubits)\n",
    "        for q in range(num_qubits):\n",
    "            qc.append(H, [q])\n",
    "        if num_qubits == 2 and apply_CZ:\n",
    "            qc.append(CZ, qubits)\n",
    "        for k in range(d):\n",
    "            sq_gates1 = [gate_dict[sq_gates[s][j][q][k]] for q in range(num_qubits)]\n",
    "            # Retrieve random single qubit gates applied on both qubits\n",
    "            # Apply the gates on the state\n",
    "            for q, sq_gate in enumerate(sq_gates1):\n",
    "                qc.append(sq_gate, [q])\n",
    "            if num_qubits == 2 and apply_CZ:\n",
    "                qc.append(CZ, [0, 1])\n",
    "            # print(\"computed state: %s\" % state)\n",
    "        expected_probs[s, j] = Statevector(qc).probabilities()\n",
    "        measured_probs[s, j] = (\n",
    "            np.array([counts_list[s][j][bin(i)[2:].zfill(num_qubits)] for i in range(dim)])\n",
    "            / n_avgs\n",
    "        )\n",
    "        xe_incoherent = cross_entropy(incoherent_dist, expected_probs[s, j])\n",
    "        xe_measured = cross_entropy(measured_probs[s, j], expected_probs[s, j])\n",
    "        xe_expected = cross_entropy(expected_probs[s, j], expected_probs[s, j])\n",
    "        \n",
    "        f_log_xeb = (xe_incoherent - xe_measured) / (xe_incoherent - xe_expected)\n",
    "        f_linear_xeb = np.sum(measured_probs[s, j] * (dim *  expected_probs[s, j] -1))\n",
    "        fidelities[s, j] = f_log_xeb\n",
    "        linear_fidelities[s, j] = f_linear_xeb\n",
    "        noise_model_fidelities[s, j] = (1-effective_error)**d\n",
    "        \n",
    "        # print(f\"seq {s + 1}, depth {depths[j]}: f_xeb = {f_xeb}\")\n",
    "        \n",
    "        records += [\n",
    "            {\n",
    "                \"sequence\": s,\n",
    "                \"depth\": depths[j],\n",
    "                \"pure_probs\": expected_probs[s, j],\n",
    "                # \"pure_probs\": states_list[s][j].probabilities(),\n",
    "                \"sampled_probs\": measured_probs[s, j],\n",
    "                \"circuit\": circuits_list[s][j],\n",
    "            }\n",
    "        ]\n",
    "\n",
    "Fxeb = np.mean(fidelities, axis=0)\n",
    "Flinear = np.mean(linear_fidelities, axis=0)\n",
    "Fnoise = np.mean(noise_model_fidelities, axis=0)\n",
    "for record in records:\n",
    "    e_u = np.sum(record[\"pure_probs\"] ** 2)\n",
    "    u_u = np.sum(record[\"pure_probs\"]) / dim\n",
    "    m_u = np.sum(record[\"pure_probs\"] * record[\"sampled_probs\"])\n",
    "    record.update(e_u=e_u, u_u=u_u, m_u=m_u)"
   ]
  },
  {
   "cell_type": "markdown",
   "id": "1cca053e7a1f0d8d",
   "metadata": {
    "collapsed": false
   },
   "source": [
    "# State Heatmap"
   ]
  },
  {
   "cell_type": "code",
   "execution_count": null,
   "id": "5224ba5fb5c5096e",
   "metadata": {
    "ExecuteTime": {
     "end_time": "2024-04-16T09:15:20.239802Z",
     "start_time": "2024-04-16T09:15:19.290700Z"
    },
    "collapsed": false
   },
   "outputs": [],
   "source": [
    "# Plot the results\n",
    "def create_subplot(data, subplot_number, title):\n",
    "    plt.subplot(subplot_number)\n",
    "    plt.pcolor(depths, range(sequences), np.abs(data), vmin=0., vmax=1.0)\n",
    "    ax = plt.gca()\n",
    "    ax.set_title(title)\n",
    "    ax.set_xlabel(\"Circuit depth\")\n",
    "    ax.set_ylabel(\"Sequences\")\n",
    "    ax.set_xticks(depths)\n",
    "    ax.set_yticks(np.arange(1, sequences + 1))\n",
    "    plt.colorbar()\n",
    "\n",
    "titles, data = [], []\n",
    "\n",
    "for i in range(dim):\n",
    "    titles.append(f\"<{bin(i)[2:].zfill(num_qubits)}> Measured\")\n",
    "    titles.append(f\"<{bin(i)[2:].zfill(num_qubits)}> Expected\")\n",
    "    data.append(measured_probs[:, :, i])\n",
    "    data.append(expected_probs[:, :, i])\n",
    "\n",
    "plot_number = [241, 242, 243, 244, 245, 246, 247, 248]\n",
    "\n",
    "k = 0\n",
    "for title, d, n in zip(titles, data, plot_number):\n",
    "    plt.figure(figsize=(20, 10))\n",
    "    qubits_involved = \"\"\n",
    "    for q in qubits:\n",
    "        qubits_involved += f\"q{q}-\"\n",
    "    plt.suptitle(f\"XEB for \"+ qubits_involved+f\", shots: {n_avgs}, sequences: {sequences}, max-depth: {max_depth}, CZ: {True if num_qubits == 2 else False}\")\n",
    "    create_subplot(d, n, title)\n",
    "    plt.subplots_adjust(wspace=1.1)\n",
    "    k+=1\n"
   ]
  },
  {
   "cell_type": "code",
   "execution_count": null,
   "id": "f4a5e8e702cc4e87",
   "metadata": {
    "ExecuteTime": {
     "end_time": "2024-04-16T09:15:20.303296Z",
     "start_time": "2024-04-16T09:15:20.240429Z"
    },
    "collapsed": false
   },
   "outputs": [],
   "source": [
    "import pandas as pd\n",
    "df = pd.DataFrame(records)\n",
    "df[\"y\"] = df[\"m_u\"] - df[\"u_u\"]\n",
    "df[\"x\"] = df[\"e_u\"] - df[\"u_u\"]\n",
    "\n",
    "df[\"numerator\"] = df[\"x\"] * df[\"y\"]\n",
    "df[\"denominator\"] = df[\"x\"] ** 2\n",
    "df"
   ]
  },
  {
   "cell_type": "code",
   "execution_count": null,
   "id": "3232d2abbcb65b5f",
   "metadata": {
    "ExecuteTime": {
     "end_time": "2024-04-16T09:15:20.548319Z",
     "start_time": "2024-04-16T09:15:20.303847Z"
    },
    "collapsed": false
   },
   "outputs": [],
   "source": [
    "%matplotlib inline\n",
    "from matplotlib import pyplot as plt\n",
    "\n",
    "# Color by cycle depth\n",
    "import seaborn as sns\n",
    "\n",
    "colors = sns.cubehelix_palette(n_colors=len(depths))\n",
    "colors = {k: colors[i] for i, k in enumerate(depths)}\n",
    "\n",
    "_lines = []\n",
    "\n",
    "\n",
    "def per_cycle_depth(df):\n",
    "    fid_lsq = df[\"numerator\"].sum() / df[\"denominator\"].sum()\n",
    "\n",
    "    cycle_depth = df.name\n",
    "    xx = np.linspace(0, df[\"x\"].max())\n",
    "    (l,) = plt.plot(xx, fid_lsq * xx, color=colors[cycle_depth])\n",
    "    plt.scatter(df[\"x\"], df[\"y\"], color=colors[cycle_depth])\n",
    "\n",
    "    global _lines\n",
    "    _lines += [l]  # for legend\n",
    "    return pd.Series({\"fidelity\": fid_lsq})\n",
    "\n",
    "\n",
    "fids = df.groupby(\"depth\").apply(per_cycle_depth).reset_index()\n",
    "plt.xlabel(r\"$e_U - u_U$\", fontsize=18)\n",
    "plt.ylabel(r\"$m_U - u_U$\", fontsize=18)\n",
    "_lines = np.asarray(_lines)\n",
    "plt.legend(_lines[[0, -1]], depths[[0, -1]], loc=\"best\", title=\"Cycle depth\")\n",
    "plt.tight_layout()"
   ]
  },
  {
   "cell_type": "markdown",
   "id": "f2b26cdee3f10bb0",
   "metadata": {
    "collapsed": false
   },
   "source": [
    "# Fidelity plot"
   ]
  },
  {
   "cell_type": "code",
   "execution_count": null,
   "id": "694142179ffa3e09",
   "metadata": {
    "ExecuteTime": {
     "end_time": "2024-04-16T09:15:20.633024Z",
     "start_time": "2024-04-16T09:15:20.549159Z"
    },
    "collapsed": false
   },
   "outputs": [],
   "source": [
    "from typing import Tuple\n",
    "from scipy import optimize\n",
    "from scipy import stats\n",
    "\n",
    "\n",
    "# Fit the data\n",
    "def exponential_decay(cycle_depths: np.ndarray, a: float, layer_fid: float) -> np.ndarray:\n",
    "    \"\"\"An exponential decay for fitting.\n",
    "\n",
    "    This computes `a * layer_fid**cycle_depths`\n",
    "\n",
    "    Args:\n",
    "        cycle_depths: The various depths at which fidelity was estimated. This is the independent\n",
    "            variable in the exponential function.\n",
    "        a: A scale parameter in the exponential function.\n",
    "        layer_fid: The base of the exponent in the exponential function.\n",
    "    \"\"\"\n",
    "    return a * layer_fid**cycle_depths\n",
    "\n",
    "def _fit_exponential_decay(\n",
    "    cycle_depths: np.ndarray, fidelities: np.ndarray\n",
    ") -> Tuple[float, float, float, float]:\n",
    "    \"\"\"Fit an exponential model fidelity = a * layer_fid**x using nonlinear least squares.\n",
    "\n",
    "    This uses `exponential_decay` as the function to fit with parameters `a` and `layer_fid`.\n",
    "\n",
    "    Args:\n",
    "        cycle_depths: The various depths at which fidelity was estimated. Each element is `x`\n",
    "            in the fit expression.\n",
    "        fidelities: The estimated fidelities for each cycle depth. Each element is `fidelity`\n",
    "            in the fit expression.\n",
    "\n",
    "    Returns:\n",
    "        a: The first fit parameter that scales the exponential function, perhaps accounting for\n",
    "            state prep and measurement (SPAM) error.\n",
    "        layer_fid: The second fit parameters which serves as the base of the exponential.\n",
    "        a_std: The standard deviation of the `a` parameter estimate.\n",
    "        layer_fid_std: The standard deviation of the `layer_fid` parameter estimate.\n",
    "    \"\"\"\n",
    "    cycle_depths = np.asarray(cycle_depths)\n",
    "    fidelities = np.asarray(fidelities)\n",
    "\n",
    "    # Get initial guess by linear least squares with logarithm of model.\n",
    "    # This only works for positive fidelities. We use numpy fancy indexing\n",
    "    # with `positives` (an ndarray of bools).\n",
    "    positives = fidelities > 0\n",
    "    if np.sum(positives) <= 1:\n",
    "        # The sum of the boolean array is the number of `True` entries.\n",
    "        # For one or fewer positive values, we cannot perform the linear fit.\n",
    "        return 0, 0, np.inf, np.inf\n",
    "    cycle_depths_pos = cycle_depths[positives]\n",
    "    log_fidelities = np.log(fidelities[positives])\n",
    "\n",
    "    slope, intercept, _, _, _ = stats.linregress(cycle_depths_pos, log_fidelities)\n",
    "    layer_fid_0 = np.clip(np.exp(slope), 0, 1)\n",
    "    a_0 = np.clip(np.exp(intercept), 0, 1)\n",
    "\n",
    "    try:\n",
    "        (a, layer_fid), pcov = optimize.curve_fit(\n",
    "            exponential_decay,\n",
    "            cycle_depths,\n",
    "            fidelities,\n",
    "            p0=(a_0, layer_fid_0),\n",
    "            bounds=((0, 0), (1, 1)),\n",
    "        )\n",
    "    except ValueError:  # pragma: no cover\n",
    "        return 0, 0, np.inf, np.inf\n",
    "\n",
    "    a_std, layer_fid_std = np.sqrt(np.diag(pcov))\n",
    "    return a, layer_fid, a_std, layer_fid_std\n",
    "\n",
    "fit_google = True\n",
    "fit_log_entropy = True\n",
    "xx = np.linspace(0, fids[\"depth\"].max())\n",
    "# In XEB, we extract the depolarizing fidelity, which is\n",
    "# related to (but not equal to) the Pauli error.\n",
    "# For the latter, an error involves doing X, Y, or Z with E_PAULI/3\n",
    "# but for the former, an error involves doing I, X, Y, or Z with e_depol/4\n",
    "try:\n",
    "    a, layer_fid, a_std, layer_fid_std = _fit_exponential_decay(fids[\"depth\"], fids[\"fidelity\"])\n",
    "    plt.plot(xx, exponential_decay(xx, a, layer_fid),\n",
    "         label='Fit (Google processing), layer fidelity={:.2f}'.format(layer_fid),\n",
    "         color='red')\n",
    "except:\n",
    "    print(\"Fit for Google processing data failed\")\n",
    "    fit_google = False\n",
    "\n",
    "try:\n",
    "    a2, layer_fid2, a_std2, layer_fid_std2 = _fit_exponential_decay(depths[1:], Fxeb[1:])\n",
    "\n",
    "except:\n",
    "    print(\"Fit for Log-entropy processing data failed\")\n",
    "    fit_log_entropy = False\n",
    "    \n",
    "    \n",
    "plt.plot(fids[\"depth\"], fids[\"fidelity\"], marker=\"o\", color= 'red', label=\"Google processing\")\n",
    "\n",
    "# plt.scatter(depths, Fxeb, marker = 'o',\n",
    "#             color='green', label=\"Log-entropy processing\")\n",
    "# plt.plot(xx[1:], exponential_decay(xx[1:], a2, layer_fid2),\n",
    "#         label=\"Fit (Log-entropy processing), layer fidelity={:.2f}\".format(layer_fid),\n",
    "#         color=\"green\")\n",
    "plt.plot(depths, Flinear, marker=\"o\", color=\"blue\", label=\"Linear XEB\")\n",
    "plt.plot(depths, Fnoise, marker=\"o\", color=\"black\", label=\"Noise model\")\n",
    "plt.ylabel(\"Circuit fidelity\", fontsize=20)\n",
    "plt.xlabel(\"Cycle Depth $d$\", fontsize=20)\n",
    "plt.title(f\"XEB Fidelity (depol error: {effective_error})\")\n",
    "plt.legend(loc=\"best\")\n",
    "# plt.yscale(\"log\")\n",
    "plt.tight_layout()\n",
    "plt.show()"
   ]
  },
  {
   "cell_type": "code",
   "execution_count": null,
   "id": "39a25532f0822ac6",
   "metadata": {
    "ExecuteTime": {
     "end_time": "2024-04-16T09:15:20.635450Z",
     "start_time": "2024-04-16T09:15:20.633571Z"
    },
    "collapsed": false
   },
   "outputs": [],
   "source": [
    "if fit_google:\n",
    "    print(\"Google processing fit:\")\n",
    "    print(\"Params: \", a, layer_fid)\n",
    "    print(\"Error per cycle: \", layer_fid)\n",
    "if fit_log_entropy:\n",
    "    print(\"Log-entropy processing fit:\")\n",
    "    print(\"Params: \", a2, layer_fid2)\n",
    "    print(\"Error per cycle: \", layer_fid2)"
   ]
  },
  {
   "cell_type": "code",
   "execution_count": null,
   "id": "722a7f8976d9c468",
   "metadata": {
    "ExecuteTime": {
     "end_time": "2024-04-16T09:15:20.637918Z",
     "start_time": "2024-04-16T09:15:20.635853Z"
    },
    "collapsed": false
   },
   "outputs": [],
   "source": [
    "print(f\"Currently used in the QM XEB example:\\n {Fxeb}\") # Derived from the fSim paper\n",
    "print(f'Linear XEB of Google:\\n {fids[\"fidelity\"]}') # from Google's Supremacy paper"
   ]
  },
  {
   "cell_type": "code",
   "execution_count": null,
   "id": "beb8e7519445a8a5",
   "metadata": {
    "ExecuteTime": {
     "end_time": "2024-04-16T09:15:20.642969Z",
     "start_time": "2024-04-16T09:15:20.640912Z"
    },
    "collapsed": false
   },
   "outputs": [],
   "source": [
    "print(\"absolute difference\", np.abs(fids[\"fidelity\"] - Fxeb))"
   ]
  },
  {
   "cell_type": "code",
   "execution_count": null,
   "id": "8899e621844a5f2",
   "metadata": {
    "ExecuteTime": {
     "end_time": "2024-04-16T09:15:20.710615Z",
     "start_time": "2024-04-16T09:15:20.643454Z"
    },
    "collapsed": false
   },
   "outputs": [],
   "source": [
    "plt.title(\"Relative difference between Google and derived XEB fidelities\")\n",
    "plt.plot(depths, (fids[\"fidelity\"]-Fxeb)/Fxeb, 'o', label=\"XEB fidelity\")\n"
   ]
  },
  {
   "cell_type": "code",
   "execution_count": null,
   "id": "fb979a834f9a486f",
   "metadata": {
    "ExecuteTime": {
     "end_time": "2024-04-16T09:15:20.712308Z",
     "start_time": "2024-04-16T09:15:20.711153Z"
    }
   },
   "outputs": [],
   "source": []
  }
 ],
 "metadata": {
  "kernelspec": {
   "display_name": "Python 3 (ipykernel)",
   "language": "python",
   "name": "python3"
  },
  "language_info": {
   "codemirror_mode": {
    "name": "ipython",
    "version": 3
   },
   "file_extension": ".py",
   "mimetype": "text/x-python",
   "name": "python",
   "nbconvert_exporter": "python",
   "pygments_lexer": "ipython3",
   "version": "3.12.2"
  }
 },
 "nbformat": 4,
 "nbformat_minor": 5
}
