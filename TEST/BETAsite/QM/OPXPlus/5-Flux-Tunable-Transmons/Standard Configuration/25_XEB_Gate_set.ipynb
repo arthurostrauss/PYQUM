{
 "cells": [
  {
   "cell_type": "code",
   "execution_count": 1,
   "metadata": {},
   "outputs": [],
   "source": [
    "from qiskit import QuantumCircuit\n",
    "from qiskit.circuit.library import CZGate, RXGate, RYGate, RZGate, HGate, UnitaryGate, TGate, XGate, YGate, CPhaseGate\n",
    "from qiskit.quantum_info import Statevector, Operator\n",
    "import numpy as np\n"
   ]
  },
  {
   "cell_type": "code",
   "execution_count": 2,
   "metadata": {},
   "outputs": [],
   "source": [
    "# Random gates\n",
    "X90, Y90, Z180 = RXGate(np.pi / 2), RYGate(np.pi / 2), RZGate(np.pi)\n",
    "Z45 = RZGate(1 * np.pi / 4)\n",
    "T, X, Y, H = TGate(), XGate(), YGate(), HGate()\n",
    "W = UnitaryGate((X.to_matrix() + Y.to_matrix())/np.sqrt(2), label='W')\n",
    "SW = UnitaryGate((np.sqrt((X.to_matrix() + Y.to_matrix())/np.sqrt(2))), label='SW')\n",
    "\n",
    "XY90 = UnitaryGate((X90.to_matrix() + Y90.to_matrix()) / np.sqrt(3), label=\"XY90\")\n",
    "# XY90 = UnitaryGate((T.to_matrix() @ X90.to_matrix()), label=\"XY90\")\n",
    "# XY90 = UnitaryGate((X90.to_matrix() @ T.to_matrix()), label=\"XY90\")\n",
    "\n",
    "XY90mm = UnitaryGate((-X90.to_matrix() - Y90.to_matrix()) / np.sqrt(3), label=\"XY90mm\")\n",
    "XY90pm = UnitaryGate((X90.to_matrix() - Y90.to_matrix()), label=\"XY90pm\")\n",
    "XY90mp = UnitaryGate((-X90.to_matrix() + Y90.to_matrix()), label=\"XY90mp\")\n",
    "CZ, CP = CZGate(), CPhaseGate(np.pi/2)\n",
    "\n",
    "\n"
   ]
  },
  {
   "cell_type": "code",
   "execution_count": 8,
   "metadata": {},
   "outputs": [
    {
     "name": "stdout",
     "output_type": "stream",
     "text": [
      "Tell me if it's Unitary:\n",
      "[[ 1.-0.j -0.-0.j]\n",
      " [-0.+0.j  1.+0.j]]\n",
      "Square-root of i: (0.7071067811865476+0.7071067811865475j)\n",
      "Supremacy W:\n",
      " [[ 0.    +0.j     -0.7071-0.7071j]\n",
      " [ 0.7071-0.7071j  0.    +0.j    ]]\n",
      "SW**2:\n",
      " [[4.74800169e-16-3.75731123e-16j 7.07106781e-01-7.07106781e-01j]\n",
      " [7.07106781e-01+7.07106781e-01j 6.66133815e-16+8.32667268e-17j]]\n",
      "W:\n",
      " [[0.        +0.j         0.70710678-0.70710678j]\n",
      " [0.70710678+0.70710678j 0.        +0.j        ]]\n",
      "[[1.        +0.j         0.        +0.j        ]\n",
      " [0.        +0.j         0.70710678+0.70710678j]]\n",
      "False\n"
     ]
    }
   ],
   "source": [
    "# Check Unitary:\n",
    "Operator(XY90).is_unitary()\n",
    "I = XY90.to_matrix() @ XY90.to_matrix().conjugate().transpose()\n",
    "print(\"Tell me if it's Unitary:\")\n",
    "print(np.round(I,0))\n",
    "print(\"Square-root of i: %s\" %np.sqrt(1j))\n",
    "\n",
    "# from Supremacy's paper:\n",
    "sw = UnitaryGate(np.array([[1, -np.sqrt(1j)], [np.sqrt(-1j), 1]])/np.sqrt(2))\n",
    "w = sw.to_matrix() @ sw.to_matrix()\n",
    "print(f\"Supremacy W:\\n {np.round(w,4)}\")\n",
    "\n",
    "# print(XY90.to_matrix())\n",
    "W = UnitaryGate((X.to_matrix() + Y.to_matrix())/np.sqrt(2), label='W')\n",
    "\n",
    "from scipy.linalg import sqrtm\n",
    "SW = UnitaryGate((sqrtm(W.to_matrix())), label='SW')\n",
    "print(f\"SW**2:\\n {SW.to_matrix() @ SW.to_matrix()}\")\n",
    "\n",
    "print(f\"W:\\n {W.to_matrix()}\")\n",
    "\n",
    "# w = w.to_matrix()\n",
    "W = W.to_matrix()\n",
    "# T = T.to_matrix()\n",
    "print(T)\n",
    "print(np.array_equal(np.round(w,5), np.round(W,5)))"
   ]
  }
 ],
 "metadata": {
  "kernelspec": {
   "display_name": "QPX",
   "language": "python",
   "name": "python3"
  },
  "language_info": {
   "codemirror_mode": {
    "name": "ipython",
    "version": 3
   },
   "file_extension": ".py",
   "mimetype": "text/x-python",
   "name": "python",
   "nbconvert_exporter": "python",
   "pygments_lexer": "ipython3",
   "version": "3.1.0"
  }
 },
 "nbformat": 4,
 "nbformat_minor": 2
}
